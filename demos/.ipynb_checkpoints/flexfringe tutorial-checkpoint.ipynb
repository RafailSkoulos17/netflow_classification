{
 "cells": [
  {
   "cell_type": "markdown",
   "metadata": {},
   "source": [
    "# A Quick Tutorial to Passive Learning Automata using *flexfringe*\n",
    "\n",
    "This worksheet will guide you through the basic usage of *flexfringe*. The *flexfringe*-library is implemented in C++ and exposes basic functionality to Python, which is wrapped in a *scikit-learn*-like interface.\n",
    "Error reports are very welcome. Please shoot me an email at christian dot hammerschmidt at uni dot lu. Thanks!\n",
    "\n",
    "If you prefer, you can also use the command line version of *flexfringe* located in *~/flexfringe* of this VM and get started using the start.sh file, or execute *./flexfringe --help*.\n",
    "\n",
    "**Usage:** If you are already familiar with Jupyter notebooks, you can skip this segment. Otherwise, click the grey input text boxes below. You can enter any valid python code. To execute the code, press *Shift-Return*. Try running the next cell below. You will see any ouput printed directly in the notebook, and return values (if any) printed in cells labeled *out\""
   ]
  },
  {
   "cell_type": "code",
   "execution_count": 8,
   "metadata": {},
   "outputs": [
    {
     "name": "stdout",
     "output_type": "stream",
     "text": [
      "Welcome to our interactive flexfringe tutorial. The output a cell is the (return) value of the last expression, in this case the value of a.\n"
     ]
    },
    {
     "data": {
      "text/plain": [
       "5"
      ]
     },
     "execution_count": 8,
     "metadata": {},
     "output_type": "execute_result"
    }
   ],
   "source": [
    "print(\"Welcome to our interactive flexfringe tutorial. The output a cell is the (return) value of the last expression, \\\n",
    "in this case the value of a.\")\n",
    "a = 5\n",
    "a"
   ]
  },
  {
   "cell_type": "markdown",
   "metadata": {},
   "source": [
    "## Basic Package Usage\n",
    "\n",
    "The following steps will walk you through the basic usage of dfasat. To use the package, we first import it."
   ]
  },
  {
   "cell_type": "code",
   "execution_count": 25,
   "metadata": {},
   "outputs": [],
   "source": [
    "import flexfringe as ff"
   ]
  },
  {
   "cell_type": "markdown",
   "metadata": {},
   "source": [
    "\n",
    "The basic interactions with *flexfringe* are done using an estimator object of the *DFASATEstimator* class.\n",
    "\n",
    "To create one, we need to tell *flexfringe* what type of merge heuristic to use by specifying a *hName* and *dName* parameter. By default, *flexfringe* ignores samples (i.e. traces) with very low occurrance counts. \n",
    "\n",
    "For the toy example we are going to use, generated from a mealy machine with two states, we have only 100 samples. We set *state\\_count* and *symbol\\_count* to 1. Since we want to recover a mealy machine, we set the parameters accordingly.\n",
    "\n",
    "### Creating the estimator object\n"
   ]
  },
  {
   "cell_type": "code",
   "execution_count": 32,
   "metadata": {},
   "outputs": [],
   "source": [
    "e = ff.DFASATEstimator(hName=\"mealy\", hData=\"mealy_data\",\n",
    "                           state_count=25, symbol_count=25, satdfabound=10000, lower_bound=10)"
   ]
  },
  {
   "cell_type": "markdown",
   "metadata": {},
   "source": [
    "You can print the object to see a list of all the default values. \n",
    "An more extensive overview of all parameters is given by executing *flexfringe --help*, or by consulting the doxygen documentation."
   ]
  },
  {
   "cell_type": "code",
   "execution_count": 33,
   "metadata": {},
   "outputs": [
    {
     "data": {
      "text/plain": [
       "DFASATEstimator(batchsize=1000, blueblue=0, command='', correction=0.0,\n",
       "        debugging=0, delta=0.949999988079071,\n",
       "        dfa_data=<flexfringe.lib.flexfringe.vector_less__std_scope_string__greater_ object at 0x7fe03a1b3800>,\n",
       "        dfa_file='', dot_file='dfa', epsilon=0.30000001192092896, extend=1,\n",
       "        extrapar=0.5, finalred=0, forcing=0, hData='mealy_data',\n",
       "        hName='mealy', heuristic=1, largestblue=0, lower_bound=10.0,\n",
       "        mergesinks=1, method=1, mode='batch', runs=1, sat_program='',\n",
       "        sataptabound=0, satdfabound=10000, satextra=5, satfinalred=0,\n",
       "        satmergesinks=0, satplus=0, seed=12345678, shallowfirst=0,\n",
       "        sink_count=0, sinkson=1, state_count=25, symbol_count=25,\n",
       "        symmetry=1, testmerge=0)"
      ]
     },
     "execution_count": 33,
     "metadata": {},
     "output_type": "execute_result"
    }
   ],
   "source": [
    "e"
   ]
  },
  {
   "cell_type": "markdown",
   "metadata": {},
   "source": [
    "The data can just be read into a string array, and passed to the fit method of the estimator object using the dfa_data \n",
    "\n",
    "[The first line contains the number of traces, and the alphabet size. The following lines contain a label, the sequence length, and the symbols of the sequence. Each symbol is a touple of input/output.]\n",
    "\n",
    "### Reading and inputting data"
   ]
  },
  {
   "cell_type": "code",
   "execution_count": 28,
   "metadata": {},
   "outputs": [
    {
     "name": "stdout",
     "output_type": "stream",
     "text": [
      "Number of samples: 100\n",
      "A sample input trace of inputs/outputs: 1 3 0/0 0/0 0/0\n",
      "\n"
     ]
    }
   ],
   "source": [
    "fh = open(\"/home/winter/data/simple.traces\")\n",
    "data = fh.readlines()\n",
    "print(\"Number of samples: \" + str(len(data)-1))\n",
    "print(\"A sample input trace of inputs/outputs: \" + data[10])"
   ]
  },
  {
   "cell_type": "markdown",
   "metadata": {},
   "source": [
    "If you don't intend to modify the data, just pass the filename using the dfa\\_file attribute to the fit\\_() method.\n",
    "All the data files are in /home/winter/data. Let's start with the simple.traces file generated from the mealy machine with two states.\n",
    "\n",
    "### Learning a model from data\n",
    "\n",
    "*flexfringe* provides two methods to fit data: The method *fit_()* takes a filename as parameter, the method *fit()* an array of strings."
   ]
  },
  {
   "cell_type": "code",
   "execution_count": 34,
   "metadata": {},
   "outputs": [
    {
     "name": "stdout",
     "output_type": "stream",
     "text": [
      "dfa file set to /home/winter/data/original/traces1000.txt\n",
      "starting flexfringe\n",
      "\b x115  x101  x101  x99  x31  m147  m182  m207  m247  m117  m197  m237  m276  m93  m125  x25  m143  m102  m105  m92  m90  m86  m90  m91  m108  m110  m122  m119  m139  m164  m183  m204  m233  m262  m307  m376  m413  m489  m596  m758  m303  m229  m192  m302   |  | found intermediate solution with 7 and 7 red states | No valid solver specified, skipping... | '\n",
      "flexfringe done\n",
      "\n"
     ]
    }
   ],
   "source": [
    "import sys\n",
    "\n",
    "e.fit_(dfa_file=\"/home/winter/data/original/traces1000.txt\")\n",
    "\n",
    "# alernatively call:\n",
    "#est.fit_(dfa_data=data)\n",
    "\n",
    "print(\"\")"
   ]
  },
  {
   "cell_type": "markdown",
   "metadata": {},
   "source": [
    "The output shows you the actions of the state-merger with scores, e.g. **  x115  x101  x101  x99  x31  m147  m182  m207  m247 **. an **x** indicates that no possible merge was found and an extension was done, **m** indicates a merge was executed. The number immediately afterwards indicates the merge score. The higher the score, the better the merge decision. Doing a merge with a low score can lead to bad models. \n",
    "\n",
    "\n",
    "Once *flexfringe* is done learning, you can inspect the resulting machine by calling plot() on the estimator object as follows. Plotting is done using graphviz/dot.\n"
   ]
  },
  {
   "cell_type": "code",
   "execution_count": 35,
   "metadata": {},
   "outputs": [
    {
     "data": {
      "image/svg+xml": [
       "<?xml version=\"1.0\" encoding=\"UTF-8\" standalone=\"no\"?>\n",
       "<!DOCTYPE svg PUBLIC \"-//W3C//DTD SVG 1.1//EN\"\n",
       " \"http://www.w3.org/Graphics/SVG/1.1/DTD/svg11.dtd\">\n",
       "<!-- Generated by graphviz version 2.38.0 (20140413.2041)\n",
       " -->\n",
       "<!-- Title: DFA Pages: 1 -->\n",
       "<svg width=\"592pt\" height=\"711pt\"\n",
       " viewBox=\"0.00 0.00 591.63 711.00\" xmlns=\"http://www.w3.org/2000/svg\" xmlns:xlink=\"http://www.w3.org/1999/xlink\">\n",
       "<g id=\"graph0\" class=\"graph\" transform=\"scale(1 1) rotate(0) translate(4 707)\">\n",
       "<title>DFA</title>\n",
       "<polygon fill=\"white\" stroke=\"none\" points=\"-4,4 -4,-707 587.63,-707 587.63,4 -4,4\"/>\n",
       "<!-- 0 -->\n",
       "<g id=\"node1\" class=\"node\"><title>0</title>\n",
       "<polygon fill=\"none\" stroke=\"black\" points=\"285.63,-625.5 231.63,-625.5 231.63,-589.5 285.63,-589.5 285.63,-625.5\"/>\n",
       "<text text-anchor=\"middle\" x=\"258.63\" y=\"-603.8\" font-family=\"Times,serif\" font-size=\"14.00\">#3443</text>\n",
       "</g>\n",
       "<!-- 0&#45;&gt;0 -->\n",
       "<g id=\"edge2\" class=\"edge\"><title>0&#45;&gt;0</title>\n",
       "<path fill=\"none\" stroke=\"black\" d=\"M285.871,-614.993C295.654,-615.154 303.63,-612.656 303.63,-607.5 303.63,-604.358 300.669,-602.203 296.141,-601.036\"/>\n",
       "<polygon fill=\"black\" stroke=\"black\" points=\"296.17,-597.521 285.871,-600.007 295.473,-604.486 296.17,-597.521\"/>\n",
       "<text text-anchor=\"middle\" x=\"327.13\" y=\"-618.8\" font-family=\"Times,serif\" font-size=\"14.00\">al1:la</text>\n",
       "<text text-anchor=\"middle\" x=\"327.13\" y=\"-603.8\" font-family=\"Times,serif\" font-size=\"14.00\">ssc:none</text>\n",
       "<text text-anchor=\"middle\" x=\"327.13\" y=\"-588.8\" font-family=\"Times,serif\" font-size=\"14.00\">spl:none</text>\n",
       "</g>\n",
       "<!-- 41 -->\n",
       "<g id=\"node3\" class=\"node\"><title>41</title>\n",
       "<ellipse fill=\"none\" stroke=\"black\" cx=\"345.63\" cy=\"-331.5\" rx=\"32.4942\" ry=\"18\"/>\n",
       "<text text-anchor=\"middle\" x=\"345.63\" y=\"-327.8\" font-family=\"Times,serif\" font-size=\"14.00\">#6232</text>\n",
       "</g>\n",
       "<!-- 0&#45;&gt;41 -->\n",
       "<g id=\"edge3\" class=\"edge\"><title>0&#45;&gt;41</title>\n",
       "<path fill=\"none\" stroke=\"black\" d=\"M285.918,-601.746C305.635,-596.736 330.943,-586.7 343.63,-567 385.248,-502.377 366.57,-405.532 353.894,-359.138\"/>\n",
       "<polygon fill=\"black\" stroke=\"black\" points=\"357.183,-357.909 351.073,-349.253 350.452,-359.83 357.183,-357.909\"/>\n",
       "<text text-anchor=\"middle\" x=\"395.63\" y=\"-555.8\" font-family=\"Times,serif\" font-size=\"14.00\">stap1:none</text>\n",
       "<text text-anchor=\"middle\" x=\"395.63\" y=\"-540.8\" font-family=\"Times,serif\" font-size=\"14.00\">spar2:lb</text>\n",
       "<text text-anchor=\"middle\" x=\"395.63\" y=\"-525.8\" font-family=\"Times,serif\" font-size=\"14.00\">stap2:lb</text>\n",
       "<text text-anchor=\"middle\" x=\"395.63\" y=\"-510.8\" font-family=\"Times,serif\" font-size=\"14.00\">spar1:none</text>\n",
       "</g>\n",
       "<!-- 86 -->\n",
       "<g id=\"node4\" class=\"node\"><title>86</title>\n",
       "<ellipse fill=\"none\" stroke=\"black\" cx=\"113.63\" cy=\"-331.5\" rx=\"28.6953\" ry=\"18\"/>\n",
       "<text text-anchor=\"middle\" x=\"113.63\" y=\"-327.8\" font-family=\"Times,serif\" font-size=\"14.00\">#310</text>\n",
       "</g>\n",
       "<!-- 0&#45;&gt;86 -->\n",
       "<g id=\"edge4\" class=\"edge\"><title>0&#45;&gt;86</title>\n",
       "<path fill=\"none\" stroke=\"black\" d=\"M231.394,-607.359C199.426,-606.718 147.501,-600.19 121.63,-567 97.0375,-535.449 105.472,-414.281 110.731,-359.577\"/>\n",
       "<polygon fill=\"black\" stroke=\"black\" points=\"114.219,-359.867 111.73,-349.569 107.254,-359.172 114.219,-359.867\"/>\n",
       "<text text-anchor=\"middle\" x=\"145.13\" y=\"-533.3\" font-family=\"Times,serif\" font-size=\"14.00\">al2:none</text>\n",
       "</g>\n",
       "<!-- 235 -->\n",
       "<g id=\"node5\" class=\"node\"><title>235</title>\n",
       "<ellipse fill=\"none\" stroke=\"black\" cx=\"191.63\" cy=\"-331.5\" rx=\"28.6953\" ry=\"18\"/>\n",
       "<text text-anchor=\"middle\" x=\"191.63\" y=\"-327.8\" font-family=\"Times,serif\" font-size=\"14.00\">#314</text>\n",
       "</g>\n",
       "<!-- 0&#45;&gt;235 -->\n",
       "<g id=\"edge5\" class=\"edge\"><title>0&#45;&gt;235</title>\n",
       "<path fill=\"none\" stroke=\"black\" d=\"M231.561,-598.006C216.954,-591.882 200.204,-582.007 191.63,-567 153.597,-500.426 171.523,-404.892 183.658,-359.038\"/>\n",
       "<polygon fill=\"black\" stroke=\"black\" points=\"187.069,-359.835 186.359,-349.264 180.322,-357.971 187.069,-359.835\"/>\n",
       "<text text-anchor=\"middle\" x=\"218.13\" y=\"-533.3\" font-family=\"Times,serif\" font-size=\"14.00\">pfr1:none</text>\n",
       "</g>\n",
       "<!-- 236 -->\n",
       "<g id=\"node6\" class=\"node\"><title>236</title>\n",
       "<ellipse fill=\"none\" stroke=\"black\" cx=\"229.63\" cy=\"-105\" rx=\"28.6953\" ry=\"18\"/>\n",
       "<text text-anchor=\"middle\" x=\"229.63\" y=\"-101.3\" font-family=\"Times,serif\" font-size=\"14.00\">#866</text>\n",
       "</g>\n",
       "<!-- 0&#45;&gt;236 -->\n",
       "<g id=\"edge6\" class=\"edge\"><title>0&#45;&gt;236</title>\n",
       "<path fill=\"none\" stroke=\"black\" d=\"M258.874,-589.195C259.785,-515.684 262.062,-229.046 243.63,-141 242.994,-137.959 242.112,-134.843 241.098,-131.783\"/>\n",
       "<polygon fill=\"black\" stroke=\"black\" points=\"244.35,-130.487 237.545,-122.366 237.8,-132.958 244.35,-130.487\"/>\n",
       "<text text-anchor=\"middle\" x=\"278.63\" y=\"-327.8\" font-family=\"Times,serif\" font-size=\"14.00\">pfr2:rp</text>\n",
       "</g>\n",
       "<!-- I -->\n",
       "<g id=\"node2\" class=\"node\"><title>I</title>\n",
       "<ellipse fill=\"none\" stroke=\"black\" cx=\"258.63\" cy=\"-685\" rx=\"27\" ry=\"18\"/>\n",
       "<text text-anchor=\"middle\" x=\"258.63\" y=\"-681.3\" font-family=\"Times,serif\" font-size=\"14.00\">I</text>\n",
       "</g>\n",
       "<!-- I&#45;&gt;0 -->\n",
       "<g id=\"edge1\" class=\"edge\"><title>I&#45;&gt;0</title>\n",
       "<path fill=\"none\" stroke=\"black\" d=\"M258.63,-666.868C258.63,-657.697 258.63,-646.185 258.63,-635.814\"/>\n",
       "<polygon fill=\"black\" stroke=\"black\" points=\"262.131,-635.564 258.63,-625.564 255.131,-635.564 262.131,-635.564\"/>\n",
       "</g>\n",
       "<!-- 41&#45;&gt;0 -->\n",
       "<g id=\"edge7\" class=\"edge\"><title>41&#45;&gt;0</title>\n",
       "<path fill=\"none\" stroke=\"black\" d=\"M342.184,-349.457C335.9,-378.741 321.204,-440.326 299.63,-489 295.831,-497.571 292.459,-498.442 288.63,-507 285.625,-513.718 274.265,-552.288 266.42,-579.382\"/>\n",
       "<polygon fill=\"black\" stroke=\"black\" points=\"263.022,-578.535 263.61,-589.113 269.747,-580.476 263.022,-578.535\"/>\n",
       "<text text-anchor=\"middle\" x=\"314.13\" y=\"-540.8\" font-family=\"Times,serif\" font-size=\"14.00\">sp2:li+ps</text>\n",
       "<text text-anchor=\"middle\" x=\"314.13\" y=\"-525.8\" font-family=\"Times,serif\" font-size=\"14.00\">sp1:ps</text>\n",
       "</g>\n",
       "<!-- 41&#45;&gt;41 -->\n",
       "<g id=\"edge8\" class=\"edge\"><title>41&#45;&gt;41</title>\n",
       "<path fill=\"none\" stroke=\"black\" d=\"M354.317,-349.127C371.939,-375.944 396.128,-370.068 396.128,-331.5 396.128,-297.451 377.276,-288.882 360.733,-305.792\"/>\n",
       "<polygon fill=\"black\" stroke=\"black\" points=\"357.794,-303.865 354.317,-313.873 363.276,-308.218 357.794,-303.865\"/>\n",
       "<text text-anchor=\"middle\" x=\"423.628\" y=\"-477.8\" font-family=\"Times,serif\" font-size=\"14.00\">cscs:none</text>\n",
       "<text text-anchor=\"middle\" x=\"423.628\" y=\"-462.8\" font-family=\"Times,serif\" font-size=\"14.00\">pbl:none</text>\n",
       "<text text-anchor=\"middle\" x=\"423.628\" y=\"-447.8\" font-family=\"Times,serif\" font-size=\"14.00\">map2:pT</text>\n",
       "<text text-anchor=\"middle\" x=\"423.628\" y=\"-432.8\" font-family=\"Times,serif\" font-size=\"14.00\">psc:none</text>\n",
       "<text text-anchor=\"middle\" x=\"423.628\" y=\"-417.8\" font-family=\"Times,serif\" font-size=\"14.00\">csch:none</text>\n",
       "<text text-anchor=\"middle\" x=\"423.628\" y=\"-402.8\" font-family=\"Times,serif\" font-size=\"14.00\">oc2:oR</text>\n",
       "<text text-anchor=\"middle\" x=\"423.628\" y=\"-387.8\" font-family=\"Times,serif\" font-size=\"14.00\">map1:pF</text>\n",
       "<text text-anchor=\"middle\" x=\"423.628\" y=\"-372.8\" font-family=\"Times,serif\" font-size=\"14.00\">li:none</text>\n",
       "<text text-anchor=\"middle\" x=\"423.628\" y=\"-357.8\" font-family=\"Times,serif\" font-size=\"14.00\">ol1:oA</text>\n",
       "<text text-anchor=\"middle\" x=\"423.628\" y=\"-342.8\" font-family=\"Times,serif\" font-size=\"14.00\">csl:none</text>\n",
       "<text text-anchor=\"middle\" x=\"423.628\" y=\"-327.8\" font-family=\"Times,serif\" font-size=\"14.00\">rbc:none</text>\n",
       "<text text-anchor=\"middle\" x=\"423.628\" y=\"-312.8\" font-family=\"Times,serif\" font-size=\"14.00\">or1:oA</text>\n",
       "<text text-anchor=\"middle\" x=\"423.628\" y=\"-297.8\" font-family=\"Times,serif\" font-size=\"14.00\">rbl:none</text>\n",
       "<text text-anchor=\"middle\" x=\"423.628\" y=\"-282.8\" font-family=\"Times,serif\" font-size=\"14.00\">spl:none</text>\n",
       "<text text-anchor=\"middle\" x=\"423.628\" y=\"-267.8\" font-family=\"Times,serif\" font-size=\"14.00\">oe2:oR</text>\n",
       "<text text-anchor=\"middle\" x=\"423.628\" y=\"-252.8\" font-family=\"Times,serif\" font-size=\"14.00\">oc1:oA</text>\n",
       "<text text-anchor=\"middle\" x=\"423.628\" y=\"-237.8\" font-family=\"Times,serif\" font-size=\"14.00\">ppl:none</text>\n",
       "<text text-anchor=\"middle\" x=\"423.628\" y=\"-222.8\" font-family=\"Times,serif\" font-size=\"14.00\">oe1:oA</text>\n",
       "<text text-anchor=\"middle\" x=\"423.628\" y=\"-207.8\" font-family=\"Times,serif\" font-size=\"14.00\">lb:none</text>\n",
       "<text text-anchor=\"middle\" x=\"423.628\" y=\"-192.8\" font-family=\"Times,serif\" font-size=\"14.00\">ol2:oR</text>\n",
       "<text text-anchor=\"middle\" x=\"423.628\" y=\"-177.8\" font-family=\"Times,serif\" font-size=\"14.00\">or2:oR</text>\n",
       "</g>\n",
       "<!-- 2800 -->\n",
       "<g id=\"node7\" class=\"node\"><title>2800</title>\n",
       "<ellipse fill=\"none\" stroke=\"black\" cx=\"412.63\" cy=\"-105\" rx=\"28.6953\" ry=\"18\"/>\n",
       "<text text-anchor=\"middle\" x=\"412.63\" y=\"-101.3\" font-family=\"Times,serif\" font-size=\"14.00\">#442</text>\n",
       "</g>\n",
       "<!-- 41&#45;&gt;2800 -->\n",
       "<g id=\"edge9\" class=\"edge\"><title>41&#45;&gt;2800</title>\n",
       "<path fill=\"none\" stroke=\"black\" d=\"M350.666,-313.626C362.238,-274.852 390.798,-179.155 404.731,-132.469\"/>\n",
       "<polygon fill=\"black\" stroke=\"black\" points=\"408.122,-133.347 407.628,-122.764 401.414,-131.345 408.122,-133.347\"/>\n",
       "<text text-anchor=\"middle\" x=\"426.13\" y=\"-144.8\" font-family=\"Times,serif\" font-size=\"14.00\">sp3:none</text>\n",
       "</g>\n",
       "<!-- 86&#45;&gt;0 -->\n",
       "<g id=\"edge12\" class=\"edge\"><title>86&#45;&gt;0</title>\n",
       "<path fill=\"none\" stroke=\"black\" d=\"M108.019,-349.412C95.715,-386.824 67.1027,-475.756 62.6305,-507 58.852,-533.398 45.7393,-546.365 62.6305,-567 82.3263,-591.061 170.449,-600.79 221.577,-604.463\"/>\n",
       "<polygon fill=\"black\" stroke=\"black\" points=\"221.37,-607.957 231.583,-605.139 221.842,-600.973 221.37,-607.957\"/>\n",
       "<text text-anchor=\"middle\" x=\"82.6305\" y=\"-533.3\" font-family=\"Times,serif\" font-size=\"14.00\">al:none</text>\n",
       "</g>\n",
       "<!-- 235&#45;&gt;236 -->\n",
       "<g id=\"edge13\" class=\"edge\"><title>235&#45;&gt;236</title>\n",
       "<path fill=\"none\" stroke=\"black\" d=\"M189.138,-313.314C184.905,-279.161 178.834,-200.886 201.63,-141 203.263,-136.712 205.629,-132.542 208.304,-128.663\"/>\n",
       "<polygon fill=\"black\" stroke=\"black\" points=\"211.116,-130.749 214.489,-120.706 205.589,-126.453 211.116,-130.749\"/>\n",
       "<text text-anchor=\"middle\" x=\"222.63\" y=\"-144.8\" font-family=\"Times,serif\" font-size=\"14.00\">none:rp</text>\n",
       "</g>\n",
       "<!-- 236&#45;&gt;0 -->\n",
       "<g id=\"edge14\" class=\"edge\"><title>236&#45;&gt;0</title>\n",
       "<path fill=\"none\" stroke=\"black\" d=\"M200.953,-106.595C157.408,-109.234 75.7619,-121.366 38.6305,-174 -42.0732,-288.398 27.9554,-349.408 38.6305,-489 41.305,-523.972 26.2671,-541.768 50.6305,-567 73.7287,-590.922 168.082,-600.76 221.427,-604.473\"/>\n",
       "<polygon fill=\"black\" stroke=\"black\" points=\"221.308,-607.973 231.516,-605.137 221.767,-600.988 221.308,-607.973\"/>\n",
       "<text text-anchor=\"middle\" x=\"57.1305\" y=\"-327.8\" font-family=\"Times,serif\" font-size=\"14.00\">lr1:lrC</text>\n",
       "</g>\n",
       "<!-- 236&#45;&gt;236 -->\n",
       "<g id=\"edge15\" class=\"edge\"><title>236&#45;&gt;236</title>\n",
       "<path fill=\"none\" stroke=\"black\" d=\"M255.506,-112.781C266.67,-113.418 276.228,-110.824 276.228,-105 276.228,-101.087 271.913,-98.6321 265.696,-97.6356\"/>\n",
       "<polygon fill=\"black\" stroke=\"black\" points=\"265.641,-94.1305 255.506,-97.2192 265.355,-101.125 265.641,-94.1305\"/>\n",
       "<text text-anchor=\"middle\" x=\"291.728\" y=\"-101.3\" font-family=\"Times,serif\" font-size=\"14.00\">pfr:rp</text>\n",
       "</g>\n",
       "<!-- 249 -->\n",
       "<g id=\"node8\" class=\"node\"><title>249</title>\n",
       "<ellipse fill=\"none\" stroke=\"black\" cx=\"460.63\" cy=\"-18\" rx=\"28.6953\" ry=\"18\"/>\n",
       "<text text-anchor=\"middle\" x=\"460.63\" y=\"-14.3\" font-family=\"Times,serif\" font-size=\"14.00\">#262</text>\n",
       "</g>\n",
       "<!-- 236&#45;&gt;249 -->\n",
       "<g id=\"edge16\" class=\"edge\"><title>236&#45;&gt;249</title>\n",
       "<path fill=\"none\" stroke=\"black\" d=\"M253.915,-95.0642C295.334,-79.8233 379.721,-48.7718 426.86,-31.4263\"/>\n",
       "<polygon fill=\"black\" stroke=\"black\" points=\"428.149,-34.6817 436.325,-27.9437 425.731,-28.1123 428.149,-34.6817\"/>\n",
       "<text text-anchor=\"middle\" x=\"382.63\" y=\"-57.8\" font-family=\"Times,serif\" font-size=\"14.00\">lr2:none</text>\n",
       "</g>\n",
       "<!-- 2800&#45;&gt;0 -->\n",
       "<g id=\"edge10\" class=\"edge\"><title>2800&#45;&gt;0</title>\n",
       "<path fill=\"none\" stroke=\"black\" d=\"M432.593,-117.973C440.72,-123.882 449.411,-131.739 454.63,-141 461.914,-153.923 458.516,-159.208 459.63,-174 470.147,-313.604 485.189,-351.353 459.63,-489 452.85,-525.518 457.669,-542.64 429.63,-567 409.934,-584.113 340.054,-596.008 295.955,-602.007\"/>\n",
       "<polygon fill=\"black\" stroke=\"black\" points=\"295.341,-598.558 285.885,-603.336 296.257,-605.497 295.341,-598.558\"/>\n",
       "<text text-anchor=\"middle\" x=\"496.13\" y=\"-335.3\" font-family=\"Times,serif\" font-size=\"14.00\">none:ps</text>\n",
       "<text text-anchor=\"middle\" x=\"496.13\" y=\"-320.3\" font-family=\"Times,serif\" font-size=\"14.00\">li2:ps</text>\n",
       "</g>\n",
       "<!-- 2800&#45;&gt;2800 -->\n",
       "<g id=\"edge11\" class=\"edge\"><title>2800&#45;&gt;2800</title>\n",
       "<path fill=\"none\" stroke=\"black\" d=\"M438.506,-112.781C449.67,-113.418 459.228,-110.824 459.228,-105 459.228,-101.087 454.913,-98.6321 448.696,-97.6356\"/>\n",
       "<polygon fill=\"black\" stroke=\"black\" points=\"448.641,-94.1305 438.506,-97.2192 448.355,-101.125 448.641,-94.1305\"/>\n",
       "<text text-anchor=\"middle\" x=\"479.728\" y=\"-108.8\" font-family=\"Times,serif\" font-size=\"14.00\">li:none</text>\n",
       "<text text-anchor=\"middle\" x=\"479.728\" y=\"-93.8\" font-family=\"Times,serif\" font-size=\"14.00\">lb:none</text>\n",
       "</g>\n",
       "<!-- 249&#45;&gt;0 -->\n",
       "<g id=\"edge17\" class=\"edge\"><title>249&#45;&gt;0</title>\n",
       "<path fill=\"none\" stroke=\"black\" d=\"M474.704,-33.8981C486.091,-46.873 501.519,-66.7361 509.63,-87 576.054,-252.946 581.84,-320.7 521.63,-489 506.526,-531.222 496.097,-543.952 457.63,-567 407.215,-597.207 337.978,-604.818 295.874,-606.455\"/>\n",
       "<polygon fill=\"black\" stroke=\"black\" points=\"295.674,-602.959 285.782,-606.753 295.881,-609.956 295.674,-602.959\"/>\n",
       "<text text-anchor=\"middle\" x=\"559.63\" y=\"-144.8\" font-family=\"Times,serif\" font-size=\"14.00\">none:lrC</text>\n",
       "</g>\n",
       "</g>\n",
       "</svg>\n"
      ],
      "text/plain": [
       "<flexfringe.estimators.StateMachinePlot at 0x7fe03a1ad4e0>"
      ]
     },
     "execution_count": 35,
     "metadata": {},
     "output_type": "execute_result"
    }
   ],
   "source": [
    "e.plot()"
   ]
  },
  {
   "cell_type": "markdown",
   "metadata": {},
   "source": [
    "## Further experiments\n",
    "\n",
    "There are several other heuristics implemented in *flexfringe*. You can pass them to *flexfringe* using the *hName* and *dName* parameters when creating the*DFASATEstimator* object.\n",
    "\n",
    "Here is a list of heurstics and their data type:\n",
    "\n",
    "- alergia and alergia\\_data\n",
    "- kldistance and kl\\_data\n",
    "- likelihoodratio and likelihooddata\n",
    "- evidence_driven and edsm_data\n",
    "- full_overlap_driven and full_overlap_data\n",
    "\n",
    "\n",
    "**Attention:** With invalid parameter combinations, the *flexfringe* can misbehave, as no typecase checks are done at runtime.\n",
    "If that happens, the executing cell will not finish with a number, but a [\\*] symbol to its left. Use the to *Kernel* menu to interrupt and restart the kernel to fix this issue.\n",
    "\n",
    "Modifify the code above to plug in other heuristics. Be careful to use the right combination of heuristic and data-type. All other heuristics infer (P)DFAs, not mealy machines. They will ignore the output, which can be crucial to distinguish states in Mealy machines.\n",
    "\n",
    "\n",
    "\n",
    "#The Challenge:\n",
    "\n",
    "In the data directory, you have the simple.traces example file we just used, as well as a number of files with different number of samples in the *original* and *implementation* directory. Using the original files:\n",
    "\n",
    "- What amount of traces do you need to identify a \"good\" model?\n",
    "- Does the amount of data differ for different choices of heuristics?\n",
    "\n",
    "When implementing the *original* specification, something went wrong. Look at the files in the *implementation* directory:\n",
    "\n",
    "- What is the different between the models obtained from those traces?"
   ]
  },
  {
   "cell_type": "code",
   "execution_count": 8,
   "metadata": {},
   "outputs": [
    {
     "name": "stdout",
     "output_type": "stream",
     "text": [
      "['/home/winter/data/original/traces100.txt', '/home/winter/data/original/traces1000.txt', '/home/winter/data/original/traces10000.txt']\n",
      "['/home/winter/data/implementation/traces100.txt', '/home/winter/data/implementation/traces1000.txt', '/home/winter/data/implementation/traces10000.txt']\n"
     ]
    }
   ],
   "source": [
    "# just copy and paste the filenames for the dfa_file argument to fit_():\n",
    "\n",
    "import glob\n",
    "print(glob.glob(\"/home/winter/data/original/traces*\"))\n",
    "print(glob.glob(\"/home/winter/data/implementation/traces*\"))"
   ]
  },
  {
   "cell_type": "markdown",
   "metadata": {},
   "source": [
    "...beyong this point, your work starts...\n",
    "\n",
    "***GOOD LUCK & HAVE FUN***"
   ]
  },
  {
   "cell_type": "code",
   "execution_count": 8,
   "metadata": {},
   "outputs": [],
   "source": []
  }
 ],
 "metadata": {
  "kernelspec": {
   "display_name": "Python 3",
   "language": "python",
   "name": "python3"
  },
  "language_info": {
   "codemirror_mode": {
    "name": "ipython",
    "version": 3
   },
   "file_extension": ".py",
   "mimetype": "text/x-python",
   "name": "python",
   "nbconvert_exporter": "python",
   "pygments_lexer": "ipython3",
   "version": "3.6.9"
  }
 },
 "nbformat": 4,
 "nbformat_minor": 1
}
