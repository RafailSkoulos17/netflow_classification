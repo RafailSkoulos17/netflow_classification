{
 "cells": [
  {
   "cell_type": "code",
   "execution_count": 1,
   "metadata": {},
   "outputs": [],
   "source": [
    "import argparse\n",
    "import glob\n",
    "import inspect\n",
    "import os\n",
    "import shutil\n",
    "import subprocess\n",
    "import sys\n",
    "import matplotlib.pyplot as plt\n",
    "import matplotlib.colors as mcolors\n",
    "import seaborn as sns\n",
    "import numpy as np"
   ]
  },
  {
   "cell_type": "markdown",
   "metadata": {},
   "source": [
    "## Training sets"
   ]
  },
  {
   "cell_type": "code",
   "execution_count": 2,
   "metadata": {},
   "outputs": [],
   "source": [
    "data_dir = '../data/PAutomaC-competition_sets'\n",
    "all_train_files = glob.glob(data_dir + \"/*train\")\n",
    "all_train_files = [t.replace('\\\\', '/') for t in all_train_files]\n",
    "all_train_files.sort(key=lambda x: int(x.split('/')[-1].split('.')[0]))\n"
   ]
  },
  {
   "cell_type": "code",
   "execution_count": 3,
   "metadata": {},
   "outputs": [],
   "source": [
    "all_train_traces = []\n",
    "all_train_symbols = []\n",
    "all_train_trace_lengths = []\n",
    "for train_file in all_train_files:\n",
    "    with open(train_file, 'r') as f:\n",
    "        lines = f.readlines()\n",
    "        traces, symbols = lines[0].split()\n",
    "        all_train_traces += [int(traces)]\n",
    "        all_train_symbols += [int(symbols)]\n",
    "        trace_length = []\n",
    "        for line in lines[1:]:\n",
    "            trace_length += [int(line.split()[0])]\n",
    "        all_train_trace_lengths += [np.mean(trace_length)]\n"
   ]
  },
  {
   "cell_type": "code",
   "execution_count": 4,
   "metadata": {},
   "outputs": [
    {
     "name": "stdout",
     "output_type": "stream",
     "text": [
      "Training sets\n",
      "Mean number of symbols: 11.625\n",
      "std: 5.942870378304859\n",
      "median: 10.0\n",
      "min: 4\n",
      "max: 23\n",
      "\n",
      "Mean number of traces: 41666.666666666664\n",
      "std: 35551.215012835906\n",
      "median: 20000.0\n",
      "min: 20000\n",
      "max: 100000\n",
      "\n",
      "Mean trace length: 10.706753749999999\n",
      "std: 5.352900408552912\n",
      "median: 8.08869\n",
      "min: 4.93885\n",
      "max: 26.66825\n",
      "\n"
     ]
    }
   ],
   "source": [
    "print('Training sets')\n",
    "print('Mean number of symbols: {}'.format(np.mean(all_train_symbols)))\n",
    "print('std: {}'.format(np.std(all_train_symbols)))\n",
    "print('median: {}'.format(np.median(all_train_symbols)))\n",
    "print('min: {}'.format(np.min(all_train_symbols)))\n",
    "print('max: {}\\n'.format(np.max(all_train_symbols)))\n",
    "\n",
    "\n",
    "print('Mean number of traces: {}'.format(np.mean(all_train_traces)))\n",
    "print('std: {}'.format(np.std(all_train_traces)))\n",
    "print('median: {}'.format(np.median(all_train_traces)))\n",
    "print('min: {}'.format(np.min(all_train_traces)))\n",
    "print('max: {}\\n'.format(np.max(all_train_traces)))\n",
    "\n",
    "print('Mean trace length: {}'.format(np.mean(all_train_trace_lengths)))\n",
    "print('std: {}'.format(np.std(all_train_trace_lengths)))\n",
    "print('median: {}'.format(np.median(all_train_trace_lengths)))\n",
    "print('min: {}'.format(np.min(all_train_trace_lengths)))\n",
    "print('max: {}\\n'.format(np.max(all_train_trace_lengths)))"
   ]
  },
  {
   "cell_type": "code",
   "execution_count": 5,
   "metadata": {},
   "outputs": [
    {
     "data": {
      "text/plain": [
       "Text(0.5, 1.0, 'Distribution of the number of flows in the benign hosts')"
      ]
     },
     "execution_count": 5,
     "metadata": {},
     "output_type": "execute_result"
    },
    {
     "data": {
      "image/png": "[encoded data removed]",
      "text/plain": [
       "<Figure size 432x288 with 1 Axes>"
      ]
     },
     "metadata": {
      "needs_background": "light"
     },
     "output_type": "display_data"
    },
    {
     "data": {
      "image/png": "[encoded data removed]",
      "text/plain": [
       "<Figure size 432x288 with 1 Axes>"
      ]
     },
     "metadata": {
      "needs_background": "light"
     },
     "output_type": "display_data"
    }
   ],
   "source": [
    "fig = plt.figure()\n",
    "ax = fig.add_subplot()\n",
    "sns.distplot(all_train_symbols,bins=len(all_train_symbols),color='mediumblue',hist_kws={'density':False}).set(xlim=(0))\n",
    "ax.set(xlabel='Number of Flows', ylabel='Percentage of hosts')\n",
    "ax.set_title('Distribution of the number of flows in the benign hosts')\n",
    "# plt.savefig('normal_histogram.png'.format(s),bbox='tight')\n",
    "\n",
    "fig = plt.figure()\n",
    "ax = fig.add_subplot()\n",
    "sns.distplot(all_train_traces,bins=len(all_train_traces),color='mediumblue',hist_kws={'density':False}).set(xlim=(0))\n",
    "ax.set(xlabel='Number of Flows', ylabel='Percentage of hosts')\n",
    "ax.set_title('Distribution of the number of flows in the benign hosts')\n",
    "# plt.savefig('normal_histogram.png'.format(s),bbox='tight')"
   ]
  },
  {
   "cell_type": "markdown",
   "metadata": {},
   "source": [
    "## Training sets"
   ]
  },
  {
   "cell_type": "code",
   "execution_count": 6,
   "metadata": {},
   "outputs": [],
   "source": [
    "data_dir = '../data/PAutomaC-competition_sets'\n",
    "all_test_files = glob.glob(data_dir + \"/*test\")\n",
    "all_test_files = [t.replace('\\\\', '/') for t in all_test_files]\n",
    "all_test_files.sort(key=lambda x: int(x.split('/')[-1].split('.')[0]))"
   ]
  },
  {
   "cell_type": "code",
   "execution_count": 10,
   "metadata": {},
   "outputs": [],
   "source": [
    "all_test_traces = []\n",
    "all_test_symbols = []\n",
    "all_test_trace_lengths = []\n",
    "for test_file in all_test_files:\n",
    "    with open(test_file, 'r') as f:\n",
    "        lines = f.readlines()\n",
    "        traces, symbols = lines[0].split()\n",
    "        all_test_traces += [int(traces)]\n",
    "        all_test_symbols += [int(symbols)]\n",
    "        trace_length = []\n",
    "        for line in lines[1:]:\n",
    "            trace_length += [int(line.split()[0])]\n",
    "        all_test_trace_lengths += [np.mean(trace_length)]"
   ]
  },
  {
   "cell_type": "code",
   "execution_count": 11,
   "metadata": {},
   "outputs": [
    {
     "name": "stdout",
     "output_type": "stream",
     "text": [
      "Testing sets\n",
      "Mean number of symbols: 11.625\n",
      "std: 5.942870378304859\n",
      "median: 10.0\n",
      "min: 4\n",
      "max: 23\n",
      "\n",
      "Mean number of traces: 1000.0\n",
      "std: 0.0\n",
      "median: 1000.0\n",
      "min: 1000\n",
      "max: 1000\n",
      "\n",
      "Mean trace length: 14.691229166666666\n",
      "std: 5.237646852513952\n",
      "median: 13.4205\n",
      "min: 8.323\n",
      "max: 29.1\n",
      "\n"
     ]
    }
   ],
   "source": [
    "print('Testing sets')\n",
    "print('Mean number of symbols: {}'.format(np.mean(all_test_symbols)))\n",
    "print('std: {}'.format(np.std(all_test_symbols)))\n",
    "print('median: {}'.format(np.median(all_test_symbols)))\n",
    "print('min: {}'.format(np.min(all_test_symbols)))\n",
    "print('max: {}\\n'.format(np.max(all_test_symbols)))\n",
    "\n",
    "\n",
    "print('Mean number of traces: {}'.format(np.mean(all_test_traces)))\n",
    "print('std: {}'.format(np.std(all_test_traces)))\n",
    "print('median: {}'.format(np.median(all_test_traces)))\n",
    "print('min: {}'.format(np.min(all_test_traces)))\n",
    "print('max: {}\\n'.format(np.max(all_test_traces)))\n",
    "\n",
    "print('Mean trace length: {}'.format(np.mean(all_test_trace_lengths)))\n",
    "print('std: {}'.format(np.std(all_test_trace_lengths)))\n",
    "print('median: {}'.format(np.median(all_test_trace_lengths)))\n",
    "print('min: {}'.format(np.min(all_test_trace_lengths)))\n",
    "print('max: {}\\n'.format(np.max(all_test_trace_lengths)))"
   ]
  },
  {
   "cell_type": "code",
   "execution_count": 9,
   "metadata": {},
   "outputs": [
    {
     "name": "stderr",
     "output_type": "stream",
     "text": [
      "C:\\Users\\skoul\\AppData\\Roaming\\Python\\Python38\\site-packages\\seaborn\\distributions.py:288: UserWarning: Data must have variance to compute a kernel density estimate.\n",
      "  warnings.warn(msg, UserWarning)\n",
      "C:\\Users\\skoul\\AppData\\Roaming\\Python\\Python38\\site-packages\\seaborn\\distributions.py:288: UserWarning: Data must have variance to compute a kernel density estimate.\n",
      "  warnings.warn(msg, UserWarning)\n"
     ]
    },
    {
     "data": {
      "text/plain": [
       "Text(0.5, 1.0, 'Distribution of the number of flows in the benign hosts')"
      ]
     },
     "execution_count": 9,
     "metadata": {},
     "output_type": "execute_result"
    },
    {
     "data": {
      "image/png": "[encoded data removed]",
      "text/plain": [
       "<Figure size 432x288 with 1 Axes>"
      ]
     },
     "metadata": {
      "needs_background": "light"
     },
     "output_type": "display_data"
    },
    {
     "data": {
      "image/png": "[encoded data removed]",
      "text/plain": [
       "<Figure size 432x288 with 1 Axes>"
      ]
     },
     "metadata": {
      "needs_background": "light"
     },
     "output_type": "display_data"
    }
   ],
   "source": [
    "fig = plt.figure()\n",
    "ax = fig.add_subplot()\n",
    "sns.distplot(all_test_symbols,bins=len(all_test_symbols),color='mediumblue',hist_kws={'density':False}).set(xlim=(0))\n",
    "ax.set(xlabel='Number of Flows', ylabel='Percentage of hosts')\n",
    "ax.set_title('Distribution of the number of flows in the benign hosts')\n",
    "# plt.savefig('normal_histogram.png'.format(s),bbox='tight')\n",
    "\n",
    "fig = plt.figure()\n",
    "ax = fig.add_subplot()\n",
    "sns.distplot(all_test_traces,bins=len(all_test_traces),color='mediumblue',hist_kws={'density':False}).set(xlim=(0))\n",
    "ax.set(xlabel='Number of Flows', ylabel='Percentage of hosts')\n",
    "ax.set_title('Distribution of the number of flows in the benign hosts')\n",
    "# plt.savefig('normal_histogram.png'.format(s),bbox='tight')"
   ]
  },
  {
   "cell_type": "code",
   "execution_count": null,
   "metadata": {},
   "outputs": [],
   "source": []
  }
 ],
 "metadata": {
  "kernelspec": {
   "display_name": "Python 3",
   "language": "python",
   "name": "python3"
  },
  "language_info": {
   "codemirror_mode": {
    "name": "ipython",
    "version": 3
   },
   "file_extension": ".py",
   "mimetype": "text/x-python",
   "name": "python",
   "nbconvert_exporter": "python",
   "pygments_lexer": "ipython3",
   "version": "3.8.3"
  }
 },
 "nbformat": 4,
 "nbformat_minor": 4
}
