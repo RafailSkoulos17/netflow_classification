{
 "cells": [
  {
   "cell_type": "code",
   "execution_count": 5,
   "metadata": {},
   "outputs": [
    {
     "name": "stdout",
     "output_type": "stream",
     "text": [
      "Requirement already satisfied: backcall==0.1.0 in c:\\users\\skoul\\appdata\\roaming\\python\\python38\\site-packages (from -r requirements.txt (line 1)) (0.1.0)\n",
      "Requirement already satisfied: certifi==2019.11.28 in c:\\users\\skoul\\appdata\\roaming\\python\\python38\\site-packages (from -r requirements.txt (line 2)) (2019.11.28)\n",
      "Requirement already satisfied: cffi==1.14.0 in c:\\users\\skoul\\appdata\\roaming\\python\\python38\\site-packages (from -r requirements.txt (line 3)) (1.14.0)\n",
      "Requirement already satisfied: chardet==3.0.4 in c:\\users\\skoul\\appdata\\roaming\\python\\python38\\site-packages (from -r requirements.txt (line 4)) (3.0.4)\n",
      "Requirement already satisfied: click==7.1.1 in c:\\users\\skoul\\appdata\\roaming\\python\\python38\\site-packages (from -r requirements.txt (line 5)) (7.1.1)\n",
      "Requirement already satisfied: colorama==0.4.3 in c:\\users\\skoul\\appdata\\local\\programs\\python\\python38-32\\lib\\site-packages (from -r requirements.txt (line 6)) (0.4.3)\n",
      "Requirement already satisfied: cryptography==2.8 in c:\\users\\skoul\\appdata\\roaming\\python\\python38\\site-packages (from -r requirements.txt (line 7)) (2.8)\n",
      "Requirement already satisfied: cycler==0.10.0 in c:\\users\\skoul\\appdata\\roaming\\python\\python38\\site-packages (from -r requirements.txt (line 8)) (0.10.0)\n",
      "Requirement already satisfied: decorator==4.4.2 in c:\\users\\skoul\\appdata\\local\\programs\\python\\python38-32\\lib\\site-packages (from -r requirements.txt (line 9)) (4.4.2)\n",
      "Requirement already satisfied: et-xmlfile==1.0.1 in c:\\users\\skoul\\appdata\\roaming\\python\\python38\\site-packages (from -r requirements.txt (line 10)) (1.0.1)\n",
      "Requirement already satisfied: ghost==0.6.1 in c:\\users\\skoul\\appdata\\roaming\\python\\python38\\site-packages (from -r requirements.txt (line 11)) (0.6.1)\n",
      "Requirement already satisfied: graphviz==0.13.2 in c:\\users\\skoul\\appdata\\roaming\\python\\python38\\site-packages (from -r requirements.txt (line 12)) (0.13.2)\n",
      "Requirement already satisfied: idna==2.9 in c:\\users\\skoul\\appdata\\roaming\\python\\python38\\site-packages (from -r requirements.txt (line 13)) (2.9)\n",
      "Requirement already satisfied: ipython==7.13.0 in c:\\users\\skoul\\appdata\\roaming\\python\\python38\\site-packages (from -r requirements.txt (line 14)) (7.13.0)\n",
      "Requirement already satisfied: ipython-genutils==0.2.0 in c:\\users\\skoul\\appdata\\local\\programs\\python\\python38-32\\lib\\site-packages (from -r requirements.txt (line 15)) (0.2.0)\n",
      "Requirement already satisfied: jdcal==1.4.1 in c:\\users\\skoul\\appdata\\roaming\\python\\python38\\site-packages (from -r requirements.txt (line 16)) (1.4.1)\n",
      "Requirement already satisfied: jedi==0.16.0 in c:\\users\\skoul\\appdata\\roaming\\python\\python38\\site-packages (from -r requirements.txt (line 17)) (0.16.0)\n",
      "Requirement already satisfied: joblib==0.14.1 in c:\\users\\skoul\\appdata\\roaming\\python\\python38\\site-packages (from -r requirements.txt (line 18)) (0.14.1)\n",
      "Requirement already satisfied: kiwisolver==1.1.0 in c:\\users\\skoul\\appdata\\roaming\\python\\python38\\site-packages (from -r requirements.txt (line 19)) (1.1.0)\n",
      "Requirement already satisfied: matplotlib==3.2.1 in c:\\users\\skoul\\appdata\\roaming\\python\\python38\\site-packages (from -r requirements.txt (line 20)) (3.2.1)\n",
      "Requirement already satisfied: numpy==1.18.2 in c:\\users\\skoul\\appdata\\roaming\\python\\python38\\site-packages (from -r requirements.txt (line 21)) (1.18.2)\n",
      "Requirement already satisfied: openpyxl==3.0.3 in c:\\users\\skoul\\appdata\\roaming\\python\\python38\\site-packages (from -r requirements.txt (line 22)) (3.0.3)\n",
      "Requirement already satisfied: pandas==1.0.3 in c:\\users\\skoul\\appdata\\roaming\\python\\python38\\site-packages (from -r requirements.txt (line 23)) (1.0.3)\n",
      "Requirement already satisfied: parso==0.6.2 in c:\\users\\skoul\\appdata\\roaming\\python\\python38\\site-packages (from -r requirements.txt (line 24)) (0.6.2)\n",
      "Requirement already satisfied: pexpect==4.8.0 in c:\\users\\skoul\\appdata\\roaming\\python\\python38\\site-packages (from -r requirements.txt (line 25)) (4.8.0)\n",
      "Requirement already satisfied: pickleshare==0.7.5 in c:\\users\\skoul\\appdata\\local\\programs\\python\\python38-32\\lib\\site-packages (from -r requirements.txt (line 26)) (0.7.5)\n",
      "Requirement already satisfied: point==0.0.1 in c:\\users\\skoul\\appdata\\roaming\\python\\python38\\site-packages (from -r requirements.txt (line 27)) (0.0.1)\n",
      "Requirement already satisfied: prompt-toolkit==3.0.4 in c:\\users\\skoul\\appdata\\roaming\\python\\python38\\site-packages (from -r requirements.txt (line 28)) (3.0.4)\n",
      "Requirement already satisfied: ptyprocess==0.6.0 in c:\\users\\skoul\\appdata\\roaming\\python\\python38\\site-packages (from -r requirements.txt (line 29)) (0.6.0)\n",
      "Requirement already satisfied: pycparser==2.20 in c:\\users\\skoul\\appdata\\roaming\\python\\python38\\site-packages (from -r requirements.txt (line 30)) (2.20)\n",
      "Requirement already satisfied: Pygments==2.6.1 in c:\\users\\skoul\\appdata\\local\\programs\\python\\python38-32\\lib\\site-packages (from -r requirements.txt (line 31)) (2.6.1)\n",
      "Requirement already satisfied: pyparsing==2.4.6 in c:\\users\\skoul\\appdata\\roaming\\python\\python38\\site-packages (from -r requirements.txt (line 32)) (2.4.6)\n",
      "Requirement already satisfied: python-dateutil==2.8.1 in c:\\users\\skoul\\appdata\\local\\programs\\python\\python38-32\\lib\\site-packages (from -r requirements.txt (line 33)) (2.8.1)\n",
      "Requirement already satisfied: pytz==2019.3 in c:\\users\\skoul\\appdata\\roaming\\python\\python38\\site-packages (from -r requirements.txt (line 34)) (2019.3)\n",
      "Requirement already satisfied: requests==2.23.0 in c:\\users\\skoul\\appdata\\roaming\\python\\python38\\site-packages (from -r requirements.txt (line 35)) (2.23.0)\n",
      "Requirement already satisfied: scikit-learn==0.22.2.post1 in c:\\users\\skoul\\appdata\\roaming\\python\\python38\\site-packages (from -r requirements.txt (line 36)) (0.22.2.post1)\n",
      "Requirement already satisfied: scipy==1.4.1 in c:\\users\\skoul\\appdata\\roaming\\python\\python38\\site-packages (from -r requirements.txt (line 37)) (1.4.1)\n",
      "Requirement already satisfied: seaborn==0.10.0 in c:\\users\\skoul\\appdata\\roaming\\python\\python38\\site-packages (from -r requirements.txt (line 38)) (0.10.0)\n",
      "Requirement already satisfied: six==1.11.0 in c:\\users\\skoul\\appdata\\roaming\\python\\python38\\site-packages (from -r requirements.txt (line 39)) (1.11.0)\n",
      "Requirement already satisfied: sklearn==0.0 in c:\\users\\skoul\\appdata\\roaming\\python\\python38\\site-packages (from -r requirements.txt (line 40)) (0.0)\n",
      "Requirement already satisfied: tinydb==3.15.2 in c:\\users\\skoul\\appdata\\roaming\\python\\python38\\site-packages (from -r requirements.txt (line 41)) (3.15.2)\n",
      "Requirement already satisfied: traitlets==4.3.3 in c:\\users\\skoul\\appdata\\local\\programs\\python\\python38-32\\lib\\site-packages (from -r requirements.txt (line 42)) (4.3.3)\n",
      "Requirement already satisfied: urllib3==1.25.8 in c:\\users\\skoul\\appdata\\roaming\\python\\python38\\site-packages (from -r requirements.txt (line 43)) (1.25.8)\n",
      "Requirement already satisfied: wcwidth==0.1.8 in c:\\users\\skoul\\appdata\\roaming\\python\\python38\\site-packages (from -r requirements.txt (line 44)) (0.1.8)\n",
      "Requirement already satisfied: setuptools>=18.5 in c:\\users\\skoul\\appdata\\local\\programs\\python\\python38-32\\lib\\site-packages (from ipython==7.13.0->-r requirements.txt (line 14)) (41.2.0)\n"
     ]
    }
   ],
   "source": [
    "import sys\n",
    "!{sys.executable} -m pip install --user -r requirements.txt"
   ]
  },
  {
   "cell_type": "code",
   "execution_count": 6,
   "metadata": {},
   "outputs": [],
   "source": [
    "import inspect\n",
    "import os\n",
    "import sys\n",
    "from operator import itemgetter\n",
    "from functools import reduce\n",
    "from sklearn.cluster import KMeans\n",
    "import matplotlib.pyplot as plt\n",
    "import matplotlib.colors as mcolors\n",
    "import seaborn as sns\n",
    "import numpy as np\n",
    "import pandas as pd\n",
    "from numpy.linalg import norm\n",
    "from IPython.display import display, HTML\n",
    "from collections import defaultdict\n",
    "\n",
    "currentdir = os.path.dirname(os.path.abspath(inspect.getfile(inspect.currentframe())))\n",
    "parentdir = os.path.dirname(currentdir)\n",
    "sys.path.insert(0, parentdir)\n",
    "\n",
    "from pypackage.flexfringe.utils import preprocess_bidirectional_data, rolling_window, lists_identical, netflow_encoding, \\\n",
    "    find_percentile, date_diff, split_data, remove_background, foo, split_data2"
   ]
  },
  {
   "cell_type": "code",
   "execution_count": 7,
   "metadata": {},
   "outputs": [],
   "source": [
    "ip_dict = {}\n",
    "\n",
    "# IPs for scenario 42\n",
    "infected_ips = ['147.32.84.165']\n",
    "normal_ips = ['147.32.84.170', '147.32.84.134', '147.32.84.164', '147.32.87.36', '147.32.80.9', '147.32.87.11']\n",
    "\n",
    "ip_dict['scenario_42'] = {}\n",
    "ip_dict['scenario_42']['infected_ips'] = infected_ips\n",
    "ip_dict['scenario_42']['normal_ips'] = normal_ips\n",
    "\n",
    "# IPs for scenario 43\n",
    "infected_ips = ['147.32.84.165']\n",
    "normal_ips = ['147.32.84.170', '147.32.84.164', '147.32.87.36', '147.32.80.9', '147.32.87.11']\n",
    "\n",
    "ip_dict['scenario_43'] = {}\n",
    "ip_dict['scenario_43']['infected_ips'] = infected_ips\n",
    "ip_dict['scenario_43']['normal_ips'] = normal_ips\n",
    "\n",
    "# IPs for scenario 44\n",
    "infected_ips = ['147.32.84.165']\n",
    "normal_ips = ['147.32.84.170', '147.32.84.134', '147.32.84.164', '147.32.87.36', '147.32.80.9', '147.32.87.11']\n",
    "\n",
    "ip_dict['scenario_44'] = {}\n",
    "ip_dict['scenario_44']['infected_ips'] = infected_ips\n",
    "ip_dict['scenario_44']['normal_ips'] = normal_ips\n",
    "\n",
    "# IPs for scenario 45\n",
    "infected_ips = ['147.32.84.165']\n",
    "normal_ips = ['147.32.84.170', '147.32.84.134', '147.32.84.164', '147.32.87.36', '147.32.80.9', '147.32.87.11']\n",
    "\n",
    "ip_dict['scenario_45'] = {}\n",
    "ip_dict['scenario_45']['infected_ips'] = infected_ips\n",
    "ip_dict['scenario_45']['normal_ips'] = normal_ips\n",
    "\n",
    "# IPs for scenario 46\n",
    "infected_ips = ['147.32.84.165']\n",
    "normal_ips = ['147.32.84.170', '147.32.84.134', '147.32.84.164', '147.32.87.36', '147.32.80.9', '147.32.87.11']\n",
    "\n",
    "ip_dict['scenario_46'] = {}\n",
    "ip_dict['scenario_46']['infected_ips'] = infected_ips\n",
    "ip_dict['scenario_46']['normal_ips'] = normal_ips\n",
    "\n",
    "# IPs for scenario 47\n",
    "infected_ips = ['147.32.84.165']\n",
    "normal_ips = ['147.32.84.170', '147.32.84.134', '147.32.84.164', '147.32.87.36', '147.32.80.9', '147.32.87.11']\n",
    "\n",
    "ip_dict['scenario_47'] = {}\n",
    "ip_dict['scenario_47']['infected_ips'] = infected_ips\n",
    "ip_dict['scenario_47']['normal_ips'] = normal_ips\n",
    "\n",
    "# IPs for scenario 48\n",
    "infected_ips = ['147.32.84.165']\n",
    "normal_ips = ['147.32.84.170', '147.32.84.134', '147.32.84.164', '147.32.87.36', '147.32.80.9']\n",
    "\n",
    "ip_dict['scenario_48'] = {}\n",
    "ip_dict['scenario_48']['infected_ips'] = infected_ips\n",
    "ip_dict['scenario_48']['normal_ips'] = normal_ips\n",
    "\n",
    "# IPs for scenario 49\n",
    "infected_ips = ['147.32.84.165']\n",
    "normal_ips = ['147.32.84.170', '147.32.84.134', '147.32.84.164', '147.32.87.36', '147.32.80.9', '147.32.87.11']\n",
    "\n",
    "ip_dict['scenario_49'] = {}\n",
    "ip_dict['scenario_49']['infected_ips'] = infected_ips\n",
    "ip_dict['scenario_49']['normal_ips'] = normal_ips\n",
    "\n",
    "# IPs for scenario 50\n",
    "infected_ips = ['147.32.84.165', '147.32.84.191', '147.32.84.192', '147.32.84.193', '147.32.84.204',\n",
    "                '147.32.84.205', '147.32.84.206', '147.32.84.207', '147.32.84.208', '147.32.84.209']\n",
    "normal_ips = ['147.32.84.170', '147.32.84.134', '147.32.84.164', '147.32.87.36', '147.32.80.9', '147.32.87.11']\n",
    "\n",
    "ip_dict['scenario_50'] = {}\n",
    "ip_dict['scenario_50']['infected_ips'] = infected_ips\n",
    "ip_dict['scenario_50']['normal_ips'] = normal_ips\n",
    "\n",
    "# IPs for scenario 51\n",
    "normal_ips = ['147.32.84.170', '147.32.84.134', '147.32.84.164', '147.32.87.36', '147.32.80.9', '147.32.87.11']\n",
    "infected_ips = ['147.32.84.165', '147.32.84.191', '147.32.84.192', '147.32.84.193', '147.32.84.204',\n",
    "                '147.32.84.205', '147.32.84.206', '147.32.84.207', '147.32.84.208', '147.32.84.209']\n",
    "\n",
    "ip_dict['scenario_51'] = {}\n",
    "ip_dict['scenario_51']['infected_ips'] = infected_ips\n",
    "ip_dict['scenario_51']['normal_ips'] = normal_ips\n",
    "\n",
    "# IPs for scenario 52\n",
    "infected_ips = ['147.32.84.165', '147.32.84.191', '147.32.84.192']\n",
    "normal_ips = ['147.32.84.170', '147.32.84.134', '147.32.84.164', '147.32.87.36', '147.32.80.9', '147.32.87.11']\n",
    "\n",
    "ip_dict['scenario_52'] = {}\n",
    "ip_dict['scenario_52']['infected_ips'] = infected_ips\n",
    "ip_dict['scenario_52']['normal_ips'] = normal_ips\n",
    "\n",
    "# IPs for scenario 53\n",
    "infected_ips = ['147.32.84.165', '147.32.84.191', '147.32.84.192']\n",
    "normal_ips = ['147.32.84.170', '147.32.84.134', '147.32.84.164', '147.32.87.36', '147.32.80.9', '147.32.87.11']\n",
    "\n",
    "ip_dict['scenario_53'] = {}\n",
    "ip_dict['scenario_53']['infected_ips'] = infected_ips\n",
    "ip_dict['scenario_53']['normal_ips'] = normal_ips\n",
    "\n",
    "# IPs for scenario 54\n",
    "infected_ips = ['147.32.84.165']\n",
    "normal_ips = ['147.32.84.170', '147.32.84.134', '147.32.84.164', '147.32.87.36', '147.32.80.9', '147.32.87.11']\n",
    "\n",
    "ip_dict['scenario_54'] = {}\n",
    "ip_dict['scenario_54']['infected_ips'] = infected_ips\n",
    "ip_dict['scenario_54']['normal_ips'] = normal_ips"
   ]
  },
  {
   "cell_type": "markdown",
   "metadata": {},
   "source": [
    "## Helper Functions"
   ]
  },
  {
   "cell_type": "code",
   "execution_count": 8,
   "metadata": {},
   "outputs": [],
   "source": [
    "def read_and_process_data(dataset):\n",
    "    dataset_dir = '../data/ctu/'\n",
    "    if os.path.exists(dataset_dir + 'no_background_' + dataset + '.pkl'):\n",
    "        data = pd.read_pickle(\n",
    "            dataset_dir + 'no_background_' + dataset + '.pkl')  # if the data without the background are there, load them\n",
    "\n",
    "    else:\n",
    "        # read the data in chunks due to their large size - uncomment the following lines if you want to read them again\n",
    "        # and store them in a pickle\n",
    "        preprocess_bidirectional_data(dataset_dir + dataset)\n",
    "        dateparse = lambda x: pd.datetime.strptime(x, '%Y/%m/%d %H:%M:%S.%f')\n",
    "        data = pd.concat(\n",
    "            remove_background(chunk) for chunk in pd.read_csv(dataset_dir + dataset + '_v2',\n",
    "                                                              chunksize=100000, delimiter=',',\n",
    "                                                              parse_dates=['date'], date_parser=dateparse))\n",
    "        data.to_pickle(dataset_dir + 'no_background_' + dataset + '.pkl')\n",
    "\n",
    "        # ## Initial preprocessing of the data\n",
    "        # resetting indices for data\n",
    "    data = data.reset_index(drop=True)\n",
    "    dates = data['date'].tolist()\n",
    "    time_diff = [int(abs(date_diff(s, t))) for s, t in zip(dates[1:], dates)]\n",
    "    time_diff = [np.mean(time_diff)] + time_diff\n",
    "    # parse packets and bytes as integers instead of strings\n",
    "    data['time_diff'] = time_diff\n",
    "    # parse packets and bytes as integers instead of strings\n",
    "    data['packets'] = data['packets'].astype(int)\n",
    "    data['duration'] = data['duration'].astype(float)\n",
    "    data['src_bytes'] = data['src_bytes'].astype(int)\n",
    "    data['dst_bytes'] = data['dst_bytes'].astype(int)\n",
    "    data['total_bytes'] = data['total_bytes'].astype(int)\n",
    "    data['time_diff'] =  data['time_diff'].astype(int)\n",
    "\n",
    "    # add the numerical representation of the categorical data\n",
    "    data['protocol_num'] = pd.Categorical(data['protocol'], categories=data['protocol'].unique()).codes\n",
    "    # data['state_num'] = pd.Categorical(data['state'], categories=data['state'].unique()).codes\n",
    "    data['direction_num'] = pd.Categorical(data['direction'], categories=data['direction'].unique()).codes\n",
    "\n",
    "    return data"
   ]
  },
  {
   "cell_type": "code",
   "execution_count": 48,
   "metadata": {},
   "outputs": [],
   "source": [
    "def make_bar_graphs(x, y, feature):\n",
    "    \"\"\"\n",
    "    Function for visualising the difference between numerical features (mainly packtes and bytes) for infected and\n",
    "    normal hosts\n",
    "    :param x: the type of the hosts\n",
    "    :param y: the numerical values\n",
    "    :param feature: the type of the feature\n",
    "    :return: creates the wanted plot\n",
    "    \"\"\"\n",
    "    plt.figure()\n",
    "    y_pos = np.arange(len(x))\n",
    "    plt.bar(y_pos, y, align='center', alpha=0.5, color=[mcolors.TABLEAU_COLORS['tab:blue'],\n",
    "                                                        mcolors.TABLEAU_COLORS['tab:red']])\n",
    "    plt.xticks(y_pos, x)\n",
    "    plt.xlabel('Type of host')\n",
    "    plt.ylabel(feature)\n",
    "    plt.title('Average number of %s' % feature)\n",
    "#     plt.show()\n",
    "    plt.savefig('plots/barplot_%s.png' % feature)"
   ]
  },
  {
   "cell_type": "code",
   "execution_count": 49,
   "metadata": {},
   "outputs": [],
   "source": [
    "def make_barplot(data, feature):\n",
    "    \"\"\"\n",
    "    Function for visualising the difference between categorical features for infected and normal hosts\n",
    "    :param data: the dataframe containing the data\n",
    "    :return:creates the wanted plot creates the wanted plot\n",
    "    \"\"\"\n",
    "    plt.figure()\n",
    "    feature_counts = (data.groupby(['is_infected'])[feature].value_counts(normalize=True).rename('percentage').mul(100)\n",
    "                         .reset_index().sort_values(feature))\n",
    "    ax = sns.barplot(x=feature, y='percentage', data=feature_counts, hue='is_infected',\n",
    "                     palette={0: mcolors.TABLEAU_COLORS['tab:blue'], 1: mcolors.TABLEAU_COLORS['tab:red']})\n",
    "    handles, _ = ax.get_legend_handles_labels()\n",
    "    ax.legend(handles, ['Normal Hosts', 'Infected host'], loc=0)\n",
    "    plt.xlabel(\"%s type\" % feature)\n",
    "    plt.ylabel(\"Percentage of occurrences\")\n",
    "    plt.grid()\n",
    "#     plt.show()\n",
    "    plt.savefig('plots/barplot_%s.png' % feature)"
   ]
  },
  {
   "cell_type": "code",
   "execution_count": 43,
   "metadata": {},
   "outputs": [],
   "source": [
    "continuous_features = ['direction_num', 'protocol_num', 'duration', 'packets', \n",
    "                       'src_bytes', 'dst_bytes', 'total_bytes', 'time_diff', 'stos', 'dtos']\n",
    "scenarios = range(42,55)\n",
    "count_dict = defaultdict(lambda: defaultdict(int))\n",
    "categorical_count_dict = defaultdict(lambda: defaultdict(lambda: defaultdict(int)))\n",
    "\n",
    "\n",
    "for s in scenarios:\n",
    "    infected_ips = ip_dict['scenario_{}'.format(s)]['infected_ips']\n",
    "    normal_ips = ip_dict['scenario_{}'.format(s)]['normal_ips']\n",
    "    dataset_name = dataset = 'CTU-Malware-Capture-Botnet-{}'.format(s)\n",
    "    data = read_and_process_data(dataset)\n",
    "    \n",
    "    infected = data[data['src_ip'].isin(infected_ips)] \n",
    "    infected = infected.reset_index()\n",
    "\n",
    "    normal= data[data['src_ip'].isin(normal_ips)]\n",
    "    normal = normal.reset_index()\n",
    "    \n",
    "    plot_data = pd.concat([infected, normal], ignore_index=True)\n",
    "    for index, ip in enumerate(plot_data['src_ip']):\n",
    "        val = 1 if ip in infected_ips else 0\n",
    "        plot_data.at[index, 'is_infected'] = val\n",
    "   \n",
    "    \n",
    "    \n",
    "    for feature in continuous_features:\n",
    "        count_dict[feature]['normal'] += normal[feature].mean()\n",
    "        count_dict[feature]['infected'] += infected[feature].mean()\n",
    "        \n",
    "for feature in continuous_features:\n",
    "    for t in ['normal', 'infected']:\n",
    "        count_dict[feature][t] /= 13\n",
    "        \n",
    "# for feature in ['protocol', 'direction']:\n",
    "#     for t in ['normal', 'infected']:\n",
    "#         for k in categorical_count_dict[feature][t]:\n",
    "            "
   ]
  },
  {
   "cell_type": "code",
   "execution_count": 44,
   "metadata": {},
   "outputs": [],
   "source": [
    "continuous_features = ['direction_num', 'protocol_num', 'duration', 'packets', \n",
    "                       'src_bytes', 'dst_bytes', 'total_bytes', 'time_diff', 'stos', 'dtos']\n",
    "scenarios = range(42,55)\n",
    "categorical_count_dict = defaultdict(lambda: defaultdict(lambda: defaultdict(int)))\n",
    "\n",
    "all_plot_data = pd.DataFrame()\n",
    "for s in scenarios:\n",
    "    infected_ips = ip_dict['scenario_{}'.format(s)]['infected_ips']\n",
    "    normal_ips = ip_dict['scenario_{}'.format(s)]['normal_ips']\n",
    "    dataset_name = dataset = 'CTU-Malware-Capture-Botnet-{}'.format(s)\n",
    "    data = read_and_process_data(dataset)\n",
    "    \n",
    "    infected = data[data['src_ip'].isin(infected_ips)] \n",
    "#     infected = data[data['src_ip'] == infected_ips[0]] \n",
    "    infected = infected.reset_index()\n",
    "\n",
    "    normal= data[data['src_ip'].isin(normal_ips)]\n",
    "#     normal = data[data['src_ip'] == normal_ips[0]] \n",
    "    normal = normal.reset_index()\n",
    "    \n",
    "    plot_data = pd.concat([infected, normal], ignore_index=True)\n",
    "    for index, ip in enumerate(plot_data['src_ip']):\n",
    "        val = 1 if ip in infected_ips else 0\n",
    "        plot_data.at[index, 'is_infected'] = val\n",
    "    all_plot_data = pd.concat([all_plot_data, plot_data], ignore_index=True)\n",
    "   \n",
    "    "
   ]
  },
  {
   "cell_type": "code",
   "execution_count": 45,
   "metadata": {},
   "outputs": [
    {
     "name": "stdout",
     "output_type": "stream",
     "text": [
      "---------------- Stats for infected host ----------------\n"
     ]
    },
    {
     "data": {
      "text/html": [
       "<table border=\"1\" class=\"dataframe\">\n",
       "  <thead>\n",
       "    <tr style=\"text-align: right;\">\n",
       "      <th></th>\n",
       "      <th>direction_num</th>\n",
       "      <th>protocol_num</th>\n",
       "      <th>duration</th>\n",
       "      <th>packets</th>\n",
       "      <th>src_bytes</th>\n",
       "      <th>dst_bytes</th>\n",
       "      <th>total_bytes</th>\n",
       "      <th>time_diff</th>\n",
       "      <th>stos</th>\n",
       "      <th>dtos</th>\n",
       "    </tr>\n",
       "  </thead>\n",
       "  <tbody>\n",
       "    <tr>\n",
       "      <th>count</th>\n",
       "      <td>444611.000000</td>\n",
       "      <td>444611.000000</td>\n",
       "      <td>444611.000000</td>\n",
       "      <td>444611.000000</td>\n",
       "      <td>4.446110e+05</td>\n",
       "      <td>4.446110e+05</td>\n",
       "      <td>4.446110e+05</td>\n",
       "      <td>444611.000000</td>\n",
       "      <td>444611.0</td>\n",
       "      <td>211796.000000</td>\n",
       "    </tr>\n",
       "    <tr>\n",
       "      <th>mean</th>\n",
       "      <td>1.598980</td>\n",
       "      <td>1.108081</td>\n",
       "      <td>38.422478</td>\n",
       "      <td>12.968948</td>\n",
       "      <td>7.369033e+03</td>\n",
       "      <td>1.997363e+03</td>\n",
       "      <td>9.366396e+03</td>\n",
       "      <td>291.504866</td>\n",
       "      <td>0.0</td>\n",
       "      <td>0.000028</td>\n",
       "    </tr>\n",
       "    <tr>\n",
       "      <th>std</th>\n",
       "      <td>0.562819</td>\n",
       "      <td>1.165670</td>\n",
       "      <td>227.162139</td>\n",
       "      <td>857.225564</td>\n",
       "      <td>6.827371e+05</td>\n",
       "      <td>6.188539e+04</td>\n",
       "      <td>6.856626e+05</td>\n",
       "      <td>813.363464</td>\n",
       "      <td>0.0</td>\n",
       "      <td>0.007527</td>\n",
       "    </tr>\n",
       "    <tr>\n",
       "      <th>min</th>\n",
       "      <td>0.000000</td>\n",
       "      <td>0.000000</td>\n",
       "      <td>0.000000</td>\n",
       "      <td>1.000000</td>\n",
       "      <td>6.000000e+01</td>\n",
       "      <td>0.000000e+00</td>\n",
       "      <td>6.000000e+01</td>\n",
       "      <td>0.000000</td>\n",
       "      <td>0.0</td>\n",
       "      <td>0.000000</td>\n",
       "    </tr>\n",
       "    <tr>\n",
       "      <th>25%</th>\n",
       "      <td>1.000000</td>\n",
       "      <td>0.000000</td>\n",
       "      <td>0.000000</td>\n",
       "      <td>1.000000</td>\n",
       "      <td>7.400000e+01</td>\n",
       "      <td>0.000000e+00</td>\n",
       "      <td>1.860000e+02</td>\n",
       "      <td>0.000000</td>\n",
       "      <td>0.0</td>\n",
       "      <td>0.000000</td>\n",
       "    </tr>\n",
       "    <tr>\n",
       "      <th>50%</th>\n",
       "      <td>2.000000</td>\n",
       "      <td>1.000000</td>\n",
       "      <td>0.067648</td>\n",
       "      <td>2.000000</td>\n",
       "      <td>1.860000e+02</td>\n",
       "      <td>0.000000e+00</td>\n",
       "      <td>3.650000e+02</td>\n",
       "      <td>11.000000</td>\n",
       "      <td>0.0</td>\n",
       "      <td>0.000000</td>\n",
       "    </tr>\n",
       "    <tr>\n",
       "      <th>75%</th>\n",
       "      <td>2.000000</td>\n",
       "      <td>2.000000</td>\n",
       "      <td>2.975413</td>\n",
       "      <td>3.000000</td>\n",
       "      <td>1.066000e+03</td>\n",
       "      <td>2.020000e+02</td>\n",
       "      <td>1.066000e+03</td>\n",
       "      <td>99.000000</td>\n",
       "      <td>0.0</td>\n",
       "      <td>0.000000</td>\n",
       "    </tr>\n",
       "    <tr>\n",
       "      <th>max</th>\n",
       "      <td>2.000000</td>\n",
       "      <td>4.000000</td>\n",
       "      <td>3599.943115</td>\n",
       "      <td>176254.000000</td>\n",
       "      <td>1.387386e+08</td>\n",
       "      <td>1.719641e+07</td>\n",
       "      <td>1.387386e+08</td>\n",
       "      <td>21392.000000</td>\n",
       "      <td>0.0</td>\n",
       "      <td>2.000000</td>\n",
       "    </tr>\n",
       "  </tbody>\n",
       "</table>"
      ],
      "text/plain": [
       "<IPython.core.display.HTML object>"
      ]
     },
     "metadata": {},
     "output_type": "display_data"
    },
    {
     "name": "stdout",
     "output_type": "stream",
     "text": [
      "---------------- Stats for normal hosts ----------------\n"
     ]
    },
    {
     "data": {
      "text/html": [
       "<table border=\"1\" class=\"dataframe\">\n",
       "  <thead>\n",
       "    <tr style=\"text-align: right;\">\n",
       "      <th></th>\n",
       "      <th>direction_num</th>\n",
       "      <th>protocol_num</th>\n",
       "      <th>duration</th>\n",
       "      <th>packets</th>\n",
       "      <th>src_bytes</th>\n",
       "      <th>dst_bytes</th>\n",
       "      <th>total_bytes</th>\n",
       "      <th>time_diff</th>\n",
       "      <th>stos</th>\n",
       "      <th>dtos</th>\n",
       "    </tr>\n",
       "  </thead>\n",
       "  <tbody>\n",
       "    <tr>\n",
       "      <th>count</th>\n",
       "      <td>355057.000000</td>\n",
       "      <td>355057.000000</td>\n",
       "      <td>355057.000000</td>\n",
       "      <td>355057.000000</td>\n",
       "      <td>3.550570e+05</td>\n",
       "      <td>3.550570e+05</td>\n",
       "      <td>3.550570e+05</td>\n",
       "      <td>355057.000000</td>\n",
       "      <td>354716.0</td>\n",
       "      <td>350593.0</td>\n",
       "    </tr>\n",
       "    <tr>\n",
       "      <th>mean</th>\n",
       "      <td>1.109408</td>\n",
       "      <td>0.556373</td>\n",
       "      <td>21.625557</td>\n",
       "      <td>18.510439</td>\n",
       "      <td>1.080933e+03</td>\n",
       "      <td>1.212158e+04</td>\n",
       "      <td>1.320251e+04</td>\n",
       "      <td>956.587269</td>\n",
       "      <td>0.0</td>\n",
       "      <td>0.0</td>\n",
       "    </tr>\n",
       "    <tr>\n",
       "      <th>std</th>\n",
       "      <td>0.691598</td>\n",
       "      <td>0.529523</td>\n",
       "      <td>188.410962</td>\n",
       "      <td>436.746718</td>\n",
       "      <td>9.448898e+04</td>\n",
       "      <td>4.167359e+05</td>\n",
       "      <td>4.363701e+05</td>\n",
       "      <td>2488.942185</td>\n",
       "      <td>0.0</td>\n",
       "      <td>0.0</td>\n",
       "    </tr>\n",
       "    <tr>\n",
       "      <th>min</th>\n",
       "      <td>0.000000</td>\n",
       "      <td>0.000000</td>\n",
       "      <td>0.000000</td>\n",
       "      <td>1.000000</td>\n",
       "      <td>0.000000e+00</td>\n",
       "      <td>0.000000e+00</td>\n",
       "      <td>6.000000e+01</td>\n",
       "      <td>0.000000</td>\n",
       "      <td>0.0</td>\n",
       "      <td>0.0</td>\n",
       "    </tr>\n",
       "    <tr>\n",
       "      <th>25%</th>\n",
       "      <td>1.000000</td>\n",
       "      <td>0.000000</td>\n",
       "      <td>0.000325</td>\n",
       "      <td>2.000000</td>\n",
       "      <td>7.400000e+01</td>\n",
       "      <td>1.490000e+02</td>\n",
       "      <td>2.610000e+02</td>\n",
       "      <td>0.000000</td>\n",
       "      <td>0.0</td>\n",
       "      <td>0.0</td>\n",
       "    </tr>\n",
       "    <tr>\n",
       "      <th>50%</th>\n",
       "      <td>1.000000</td>\n",
       "      <td>1.000000</td>\n",
       "      <td>0.000468</td>\n",
       "      <td>2.000000</td>\n",
       "      <td>8.100000e+01</td>\n",
       "      <td>2.480000e+02</td>\n",
       "      <td>4.000000e+02</td>\n",
       "      <td>1.000000</td>\n",
       "      <td>0.0</td>\n",
       "      <td>0.0</td>\n",
       "    </tr>\n",
       "    <tr>\n",
       "      <th>75%</th>\n",
       "      <td>2.000000</td>\n",
       "      <td>1.000000</td>\n",
       "      <td>0.030193</td>\n",
       "      <td>6.000000</td>\n",
       "      <td>2.720000e+02</td>\n",
       "      <td>3.260000e+02</td>\n",
       "      <td>4.530000e+02</td>\n",
       "      <td>141.000000</td>\n",
       "      <td>0.0</td>\n",
       "      <td>0.0</td>\n",
       "    </tr>\n",
       "    <tr>\n",
       "      <th>max</th>\n",
       "      <td>5.000000</td>\n",
       "      <td>4.000000</td>\n",
       "      <td>3599.999756</td>\n",
       "      <td>68953.000000</td>\n",
       "      <td>5.492944e+07</td>\n",
       "      <td>6.837809e+07</td>\n",
       "      <td>6.926754e+07</td>\n",
       "      <td>20000.000000</td>\n",
       "      <td>0.0</td>\n",
       "      <td>0.0</td>\n",
       "    </tr>\n",
       "  </tbody>\n",
       "</table>"
      ],
      "text/plain": [
       "<IPython.core.display.HTML object>"
      ]
     },
     "metadata": {},
     "output_type": "display_data"
    }
   ],
   "source": [
    "infected = all_plot_data[all_plot_data['is_infected']==1]\n",
    "infected = infected.reset_index()\n",
    "\n",
    "normal = all_plot_data[all_plot_data['is_infected']==0]\n",
    "normal = normal.reset_index()\n",
    "\n",
    "\n",
    "with pd.option_context('display.max_rows', None, 'display.max_columns', None):\n",
    "    print('---------------- Stats for infected host ----------------')\n",
    "    display(HTML(infected[continuous_features].describe().to_html()))\n",
    "    print('---------------- Stats for normal hosts ----------------')\n",
    "    display(HTML(normal[continuous_features].describe().to_html()))"
   ]
  },
  {
   "cell_type": "markdown",
   "metadata": {},
   "source": [
    "## Check statistics of the data for the infected and the normal hosts to decide on the features for discretization"
   ]
  },
  {
   "cell_type": "code",
   "execution_count": 50,
   "metadata": {},
   "outputs": [
    {
     "name": "stdout",
     "output_type": "stream",
     "text": [
      "plots created\n"
     ]
    },
    {
     "data": {
      "image/png": "[encoded data removed]",
      "text/plain": [
       "<Figure size 432x288 with 1 Axes>"
      ]
     },
     "metadata": {
      "needs_background": "light"
     },
     "output_type": "display_data"
    },
    {
     "data": {
      "image/png": "[encoded data removed]",
      "text/plain": [
       "<Figure size 432x288 with 1 Axes>"
      ]
     },
     "metadata": {
      "needs_background": "light"
     },
     "output_type": "display_data"
    },
    {
     "data": {
      "image/png": "[encoded data removed]",
      "text/plain": [
       "<Figure size 432x288 with 1 Axes>"
      ]
     },
     "metadata": {
      "needs_background": "light"
     },
     "output_type": "display_data"
    },
    {
     "data": {
      "image/png": "[encoded data removed]",
      "text/plain": [
       "<Figure size 432x288 with 1 Axes>"
      ]
     },
     "metadata": {
      "needs_background": "light"
     },
     "output_type": "display_data"
    },
    {
     "data": {
      "image/png": "[encoded data removed]",
      "text/plain": [
       "<Figure size 432x288 with 1 Axes>"
      ]
     },
     "metadata": {
      "needs_background": "light"
     },
     "output_type": "display_data"
    },
    {
     "data": {
      "image/png": "[encoded data removed]",
      "text/plain": [
       "<Figure size 432x288 with 1 Axes>"
      ]
     },
     "metadata": {
      "needs_background": "light"
     },
     "output_type": "display_data"
    },
    {
     "data": {
      "image/png": "[encoded data removed]",
      "text/plain": [
       "<Figure size 432x288 with 1 Axes>"
      ]
     },
     "metadata": {
      "needs_background": "light"
     },
     "output_type": "display_data"
    },
    {
     "data": {
      "image/png": "[encoded data removed]",
      "text/plain": [
       "<Figure size 432x288 with 1 Axes>"
      ]
     },
     "metadata": {
      "needs_background": "light"
     },
     "output_type": "display_data"
    },
    {
     "data": {
      "image/png": "[encoded data removed]",
      "text/plain": [
       "<Figure size 432x288 with 1 Axes>"
      ]
     },
     "metadata": {
      "needs_background": "light"
     },
     "output_type": "display_data"
    },
    {
     "data": {
      "image/png": "[encoded data removed]",
      "text/plain": [
       "<Figure size 432x288 with 1 Axes>"
      ]
     },
     "metadata": {
      "needs_background": "light"
     },
     "output_type": "display_data"
    },
    {
     "data": {
      "image/png": "[encoded data removed]",
      "text/plain": [
       "<Figure size 432x288 with 1 Axes>"
      ]
     },
     "metadata": {
      "needs_background": "light"
     },
     "output_type": "display_data"
    },
    {
     "data": {
      "image/png": "[encoded data removed]",
      "text/plain": [
       "<Figure size 432x288 with 1 Axes>"
      ]
     },
     "metadata": {
      "needs_background": "light"
     },
     "output_type": "display_data"
    }
   ],
   "source": [
    "\n",
    "\n",
    "# preprocess the infected and normal data and plot possible feature candidates\n",
    "# plot_data = pd.concat([infected, normal], ignore_index=True)\n",
    "# for index, ip in enumerate(plot_data['src_ip']):\n",
    "#     val = 1 if ip == infected_ip else 0\n",
    "#     plot_data.at[index, 'is_infected'] = val\n",
    "\n",
    "make_barplot(all_plot_data, 'protocol')\n",
    "make_barplot(all_plot_data, 'direction')\n",
    "for feature in continuous_features:\n",
    "    make_bar_graphs(['Normal Hosts', 'Infected Host'], [count_dict[feature]['normal'], count_dict[feature]['infected']], feature)\n",
    "\n",
    "print('plots created')"
   ]
  },
  {
   "cell_type": "code",
   "execution_count": null,
   "metadata": {},
   "outputs": [],
   "source": []
  }
 ],
 "metadata": {
  "kernelspec": {
   "display_name": "Python 3",
   "language": "python",
   "name": "python3"
  },
  "language_info": {
   "codemirror_mode": {
    "name": "ipython",
    "version": 3
   },
   "file_extension": ".py",
   "mimetype": "text/x-python",
   "name": "python",
   "nbconvert_exporter": "python",
   "pygments_lexer": "ipython3",
   "version": "3.8.3"
  }
 },
 "nbformat": 4,
 "nbformat_minor": 4
}
